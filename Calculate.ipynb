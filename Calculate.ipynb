{
 "cells": [
  {
   "cell_type": "code",
   "execution_count": 1,
   "id": "eae8eae2-b770-4f6e-a68f-fb4e111723bc",
   "metadata": {},
   "outputs": [
    {
     "name": "stderr",
     "output_type": "stream",
     "text": [
      "/var/folders/2y/x0zrnh_x0md72jv5v36v3_280000gn/T/ipykernel_944/4080736814.py:1: DeprecationWarning: \n",
      "Pyarrow will become a required dependency of pandas in the next major release of pandas (pandas 3.0),\n",
      "(to allow more performant data types, such as the Arrow string type, and better interoperability with other libraries)\n",
      "but was not found to be installed on your system.\n",
      "If this would cause problems for you,\n",
      "please provide us feedback at https://github.com/pandas-dev/pandas/issues/54466\n",
      "        \n",
      "  import pandas as pd\n"
     ]
    }
   ],
   "source": [
    "import pandas as pd"
   ]
  },
  {
   "cell_type": "code",
   "execution_count": 4,
   "id": "d1b0c0ad-5409-4305-927a-31b31523a336",
   "metadata": {},
   "outputs": [],
   "source": [
    "df = pd.read_csv('powerups.csv', delimiter=';')"
   ]
  },
  {
   "cell_type": "code",
   "execution_count": 7,
   "id": "4fb4d5a4-c6d1-49c7-9d49-aef006a21a6a",
   "metadata": {},
   "outputs": [
    {
     "data": {
      "text/plain": [
       "21        Seal I\n",
       "15       Revival\n",
       "8         Amount\n",
       "14         Curse\n",
       "16          Omni\n",
       "18        Reroll\n",
       "12        Growth\n",
       "4       Cooldown\n",
       "1          Armor\n",
       "11          Luck\n",
       "5           Area\n",
       "6          Speed\n",
       "7       Duration\n",
       "9     Move Speed\n",
       "10        Magnet\n",
       "0          Might\n",
       "3       Recovery\n",
       "13         Greed\n",
       "2     Max Health\n",
       "20        Banish\n",
       "19          Skip\n",
       "17        Defang\n",
       "Name: powerup, dtype: object"
      ]
     },
     "execution_count": 7,
     "metadata": {},
     "output_type": "execute_result"
    }
   ],
   "source": [
    "df.sort_values(by=['basecost', 'levels'], ascending=[False, False])['powerup']"
   ]
  },
  {
   "cell_type": "code",
   "execution_count": null,
   "id": "0d950715-fa49-4700-996b-37d9ef1ddc0c",
   "metadata": {},
   "outputs": [],
   "source": []
  }
 ],
 "metadata": {
  "kernelspec": {
   "display_name": "Python 3 (ipykernel)",
   "language": "python",
   "name": "python3"
  },
  "language_info": {
   "codemirror_mode": {
    "name": "ipython",
    "version": 3
   },
   "file_extension": ".py",
   "mimetype": "text/x-python",
   "name": "python",
   "nbconvert_exporter": "python",
   "pygments_lexer": "ipython3",
   "version": "3.11.2"
  }
 },
 "nbformat": 4,
 "nbformat_minor": 5
}
